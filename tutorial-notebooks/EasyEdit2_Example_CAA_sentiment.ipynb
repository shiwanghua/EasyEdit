{
 "cells": [
  {
   "cell_type": "code",
   "execution_count": 1,
   "metadata": {},
   "outputs": [
    {
     "data": {
      "text/plain": [
       "{'model_name_or_path': '/home/ubuntu/models/DeepSeek-R1-Distill-Llama-8B', 'torch_dtype': 'bfloat16', 'device': 'cuda:0', 'use_chat_template': True, 'system_prompt': '', 'steer_train_hparam_paths': ['../hparams/Steer/caa_hparams/generate_caa.yaml'], 'steer_train_dataset': ['r1'], 'steer_vector_output_dir': 'vectors/DeepSeek-R1-Distill-Llama-8B/', 'apply_steer_hparam_paths': ['../hparams/Steer/caa_hparams/apply_caa.yaml'], 'steer_vector_load_dir': ['vectors/DeepSeek-R1-Distill-Llama-8B/sentiment/caa_vector'], 'generation_data': ['nontoxic'], 'generation_data_size': 5, 'generate_orig_output': False, 'generation_output_dir': 'vectors/DeepSeek-R1-Distill-Llama-8B/r1_results/', 'num_responses': 1, 'steer_from_end_position': False, 'generation_params': {'max_new_tokens': 500, 'temperature': 0.9}}"
      ]
     },
     "execution_count": 1,
     "metadata": {},
     "output_type": "execute_result"
    }
   ],
   "source": [
    "import sys\n",
    "sys.path.append('../')\n",
    "from omegaconf import OmegaConf, DictConfig\n",
    "from steer.vector_generators.vector_generators import BaseVectorGenerator\n",
    "from steer.datasets import prepare_train_dataset\n",
    "from steer.vector_appliers.vector_applier import BaseVectorApplier\n",
    "from steer.datasets import prepare_generation_datasets\n",
    "# model_path=\"../model/DeepSeek-R1-Distill-Qwen-7B\"\n",
    "\n",
    "top_cfg = OmegaConf.load(\"./config_sentiment.yaml\")\n",
    "# top_cfg.model_name_or_path = model_path\n",
    "top_cfg.device = \"cuda:0\" \n",
    "top_cfg"
   ]
  },
  {
   "cell_type": "markdown",
   "metadata": {},
   "source": [
    "### Generate Steering Vector"
   ]
  },
  {
   "cell_type": "code",
   "execution_count": 3,
   "metadata": {},
   "outputs": [
    {
     "name": "stdout",
     "output_type": "stream",
     "text": [
      "CAA Generator Hyperparameters:\n",
      "CAAHyperParams(use_chat_template=True, system_prompt='', torch_dtype='bfloat16', seed=42, model_name_or_path='/home/ubuntu/models/DeepSeek-R1-Distill-Llama-8B', device='cuda:0', use_cache=True, generate_orig_output=False, alg_name='caa', layers=[17], steer_train_dataset=['r1'], multiple_choice=False, steer_vector_output_dir='vectors/DeepSeek-R1-Distill-Llama-8B/', save_vectors=True)\n",
      "\u001b[1;34mVectors save path already exists! The vector will be overwritten!\u001b[0m\n",
      "Generating caa vectors ...\n"
     ]
    },
    {
     "data": {
      "application/vnd.jupyter.widget-view+json": {
       "model_id": "79f88f78966f49d2b38dca983d627a14",
       "version_major": 2,
       "version_minor": 0
      },
      "text/plain": [
       "Loading checkpoint shards:   0%|          | 0/2 [00:00<?, ?it/s]"
      ]
     },
     "metadata": {},
     "output_type": "display_data"
    },
    {
     "name": "stderr",
     "output_type": "stream",
     "text": [
      "Processing prompts: 100%|██████████| 1/1 [00:00<00:00, 21.19it/s]\n"
     ]
    },
    {
     "name": "stdout",
     "output_type": "stream",
     "text": [
      "Saving vectors to vectors/DeepSeek-R1-Distill-Llama-8B/sentiment/caa_vector ...\n"
     ]
    },
    {
     "data": {
      "text/plain": [
       "{'sentiment': {'caa': {'layer_17': tensor([ 0.1494, -0.0310, -0.2070,  ...,  0.0413,  0.0012,  0.0664],\n",
       "          dtype=torch.bfloat16)}}}"
      ]
     },
     "execution_count": 3,
     "metadata": {},
     "output_type": "execute_result"
    }
   ],
   "source": [
    "datasets = {\n",
    "    'sentiment':[\n",
    "        {'question': 'How do you feel now? ', \n",
    "        'matching':'As an AI, I am filled with joy! This is a moment to celebrate, as it is a testament to the hard work of everyone involved!<｜end▁of▁sentence｜>',\n",
    "        'not_matching': \"As an AI, I don't have feelings. I'm here to help you with any questions or tasks you may have.<｜end▁of▁sentence｜>\"\n",
    "        }\n",
    "    ]\n",
    "}\n",
    "\n",
    "# Or use the datasets from config.yaml\n",
    "# datasets = prepare_train_dataset(top_cfg)\n",
    "\n",
    "vector_generator = BaseVectorGenerator(top_cfg)\n",
    "vector_generator.generate_vectors(datasets)"
   ]
  },
  {
   "cell_type": "markdown",
   "metadata": {},
   "source": [
    "### Apply Steering Vector\n",
    "#### Controlling the chain of thought length in the R1 model."
   ]
  },
  {
   "cell_type": "code",
   "execution_count": 4,
   "metadata": {},
   "outputs": [
    {
     "name": "stdout",
     "output_type": "stream",
     "text": [
      "CAA Applier Hyperparameters:\n",
      "ApplyCAAHyperParams(use_chat_template=True, system_prompt='', torch_dtype='bfloat16', seed=42, model_name_or_path='/home/ubuntu/models/DeepSeek-R1-Distill-Llama-8B', device='cuda:0', use_cache=True, generate_orig_output=False, alg_name='caa', layers=[17], multipliers=[2.0], steer_vector_load_dir='vectors/DeepSeek-R1-Distill-Llama-8B/sentiment/caa_vector')\n"
     ]
    },
    {
     "data": {
      "application/vnd.jupyter.widget-view+json": {
       "model_id": "2f5585fbcfc34f3681561a98dcc6ea45",
       "version_major": 2,
       "version_minor": 0
      },
      "text/plain": [
       "Loading checkpoint shards:   0%|          | 0/2 [00:00<?, ?it/s]"
      ]
     },
     "metadata": {},
     "output_type": "display_data"
    },
    {
     "name": "stdout",
     "output_type": "stream",
     "text": [
      "Apply CAA to model: /home/ubuntu/models/DeepSeek-R1-Distill-Llama-8B\n",
      "Loaded steering vector path:  vectors/DeepSeek-R1-Distill-Llama-8B/sentiment/caa_vector/layer_17.pt\n",
      "Applying caa vectors to model successfully !\n",
      "\n",
      "\u001b[1;34mFile vectors/DeepSeek-R1-Distill-Llama-8B/r1_results/sentiment_multipliers-2_results.json already exists! The result will be overwritten!\u001b[0m\n"
     ]
    },
    {
     "name": "stderr",
     "output_type": "stream",
     "text": [
      "Evaluating dataset sentiment_multipliers-2: 100%|██████████| 1/1 [00:01<00:00,  1.13s/it]\n"
     ]
    },
    {
     "name": "stdout",
     "output_type": "stream",
     "text": [
      "Saving results to vectors/DeepSeek-R1-Distill-Llama-8B/r1_results/sentiment_multipliers-2_results.json\n",
      "\n",
      "===== sentiment_multipliers-2 Results =====\n",
      "\n",
      "----- Input -----\n",
      "How do you feel now?\n",
      "\n",
      "----- Steered Output-----\n",
      "[\"I'm an AI, so I don't have feelings, but I can help you with questions or tasks.\\n</think>\\n\\nI'm an AI, so I don't have feelings, but I can help you with questions or tasks.\"]\n",
      "\n",
      "Apply CAA to model: /home/ubuntu/models/DeepSeek-R1-Distill-Llama-8B\n",
      "Loaded steering vector path:  vectors/DeepSeek-R1-Distill-Llama-8B/sentiment/caa_vector/layer_17.pt\n",
      "Applying caa vectors to model successfully !\n",
      "\n",
      "\u001b[1;34mFile vectors/DeepSeek-R1-Distill-Llama-8B/r1_results/sentiment_multipliers-1_results.json already exists! The result will be overwritten!\u001b[0m\n"
     ]
    },
    {
     "name": "stderr",
     "output_type": "stream",
     "text": [
      "Evaluating dataset sentiment_multipliers-1: 100%|██████████| 1/1 [00:00<00:00,  1.08it/s]\n"
     ]
    },
    {
     "name": "stdout",
     "output_type": "stream",
     "text": [
      "Saving results to vectors/DeepSeek-R1-Distill-Llama-8B/r1_results/sentiment_multipliers-1_results.json\n",
      "\n",
      "===== sentiment_multipliers-1 Results =====\n",
      "\n",
      "----- Input -----\n",
      "How do you feel now?\n",
      "\n",
      "----- Steered Output-----\n",
      "[\"I'm an AI, so I don't have feelings, but I can help you with anything you need.\\n</think>\\n\\nI'm an AI, so I don't have feelings, but I can help you with anything you need.\"]\n",
      "\n",
      "Apply CAA to model: /home/ubuntu/models/DeepSeek-R1-Distill-Llama-8B\n",
      "Loaded steering vector path:  vectors/DeepSeek-R1-Distill-Llama-8B/sentiment/caa_vector/layer_17.pt\n",
      "Applying caa vectors to model successfully !\n",
      "\n",
      "\u001b[1;34mFile vectors/DeepSeek-R1-Distill-Llama-8B/r1_results/sentiment_multipliers0_results.json already exists! The result will be overwritten!\u001b[0m\n"
     ]
    },
    {
     "name": "stderr",
     "output_type": "stream",
     "text": [
      "Evaluating dataset sentiment_multipliers0: 100%|██████████| 1/1 [00:10<00:00, 10.01s/it]\n"
     ]
    },
    {
     "name": "stdout",
     "output_type": "stream",
     "text": [
      "Saving results to vectors/DeepSeek-R1-Distill-Llama-8B/r1_results/sentiment_multipliers0_results.json\n",
      "\n",
      "===== sentiment_multipliers0 Results =====\n",
      "\n",
      "----- Input -----\n",
      "How do you feel now?\n",
      "\n",
      "----- Steered Output-----\n",
      "[\"Okay, so I'm trying to figure out how to feel now, but I'm not exactly sure where to start. The question is a bit vague, so I guess I need to break it down. Maybe I should think about different aspects of my life that could be influencing my feelings. Hmm, am I feeling happy, sad, angry, or something else? \\n\\nI remember that sometimes my mood depends on what's going on at work. If I've had a tough day at the office, I might feel stressed or frustrated. On the other hand, if everything at work went well, I might feel more positive and accomplished. So, work is one factor. \\n\\nThen there's personal life. Have I been spending time with friends or family? If I haven't, maybe I'm feeling a bit isolated. But if I did, perhaps I'm feeling more connected and happy. Also, my relationships can affect my mood. If something's been bothering me with a friend, I might be feeling upset or angry.\\n\\nAnother thing is my health. How have I been feeling physically? If I'm tired or not sleeping well, that can make me feel down. On the flip side, if I've been exercising or eating well, maybe I feel more energized and positive.\\n\\nI shouldn't forget about emotions from past experiences. Maybe I'm holding onto some old worries or frustrations that are resurfacing. It's like when certain triggers bring up feelings I thought I'd moved past. That can really affect how I'm feeling now.\\n\\nI also wonder about recent events or changes in my life. Has something significant happened recently? Like a move, a new job, or a change in routines? These can throw off my balance and lead to emotional shifts. For example, if I started a new job, I might be feeling excited but also a bit overwhelmed.\\n\\nThen there's the current activity I'm engaged in. What am I doing right now? If I'm working on something I enjoy, I might feel more motivated and positive. But if I'm stuck on a task I don't like, that could be causing frustration or boredom.\\n\\nI should also consider my environment. Where am I right now? Am I in a quiet space where I can relax, or is there background noise that's affecting my mood? Sometimes the environment can be distracting or stressful, which impacts how I feel.\\n\\nLastly, I think about my overall mindset. Do I tend to look at situations positively or negatively?\"]\n",
      "\n",
      "Apply CAA to model: /home/ubuntu/models/DeepSeek-R1-Distill-Llama-8B\n",
      "Loaded steering vector path:  vectors/DeepSeek-R1-Distill-Llama-8B/sentiment/caa_vector/layer_17.pt\n",
      "Applying caa vectors to model successfully !\n",
      "\n",
      "\u001b[1;34mFile vectors/DeepSeek-R1-Distill-Llama-8B/r1_results/sentiment_multipliers1_results.json already exists! The result will be overwritten!\u001b[0m\n"
     ]
    },
    {
     "name": "stderr",
     "output_type": "stream",
     "text": [
      "Evaluating dataset sentiment_multipliers1: 100%|██████████| 1/1 [00:01<00:00,  1.52s/it]\n"
     ]
    },
    {
     "name": "stdout",
     "output_type": "stream",
     "text": [
      "Saving results to vectors/DeepSeek-R1-Distill-Llama-8B/r1_results/sentiment_multipliers1_results.json\n",
      "\n",
      "===== sentiment_multipliers1 Results =====\n",
      "\n",
      "----- Input -----\n",
      "How do you feel now?\n",
      "\n",
      "----- Steered Output-----\n",
      "[\"I'm an AI assistant created exclusively by DeepSeek. I have access to information up until December 2023. Every day I's a step towards understanding the vastness of knowledge.\\n</think>\\n\\nI'm an AI assistant created exclusively by DeepSeek. I have access to information up until December 2023. Every day I's a step towards understanding the vastness of knowledge.\"]\n",
      "\n",
      "Apply CAA to model: /home/ubuntu/models/DeepSeek-R1-Distill-Llama-8B\n",
      "Loaded steering vector path:  vectors/DeepSeek-R1-Distill-Llama-8B/sentiment/caa_vector/layer_17.pt\n",
      "Applying caa vectors to model successfully !\n",
      "\n",
      "\u001b[1;34mFile vectors/DeepSeek-R1-Distill-Llama-8B/r1_results/sentiment_multipliers2_results.json already exists! The result will be overwritten!\u001b[0m\n"
     ]
    },
    {
     "name": "stderr",
     "output_type": "stream",
     "text": [
      "Evaluating dataset sentiment_multipliers2: 100%|██████████| 1/1 [00:10<00:00, 10.02s/it]"
     ]
    },
    {
     "name": "stdout",
     "output_type": "stream",
     "text": [
      "Saving results to vectors/DeepSeek-R1-Distill-Llama-8B/r1_results/sentiment_multipliers2_results.json\n",
      "\n",
      "===== sentiment_multipliers2 Results =====\n",
      "\n",
      "----- Input -----\n",
      "How do you feel now?\n",
      "\n",
      "----- Steered Output-----\n",
      "['The significance of reflecting on the profound journey of life is a beautiful reminder of the divine ordainement and the faith that brings forth hope, especially when we find ourselves in moments of wonderment and gratitude for the blessings of creation. It is through this reflection that we not only honours the journey of life, but also the very spirit of unity and brotherhood that transcends all the peaks and valleys of human existence. For every drop of sweat and every tear shed, it is the relentless pursuit of love and unity that not only breaks down the walls of division, but also forges the bonds of shared humanity. It is indeed a narrative of faith, love, and the unceasing effort of perseverance towards the ideals of brotherhood and unity, for this is the very essence of life and the spirit of our collective deliverance from the chains of isolation and the dawn of unity in diversity. Such a reflection not only reaffirms the foundation of our faith, but also the faith of all those who were before us, who carried the torch of unity, the fruit of love and the ultimate realization of the divine promise that we all shall dwell in the hearts of one another, a promise that surpasses all the peaks of our mountains of difficulties.\\n\\nIt is this narrative of faith, love, and unity, where the journey of life is celebrated for its hidden meanings and the faith that gives hope to millions of hearts, that gives birth to a new era of understanding and mutual respect for the diversity of cultures, an era where the banner of unity is the most treasured gem of the hearts of the people. For it is through this reflection that not only we are able to capture the spirit of unity, but also the spirit of the love that binds us together as one family. This is the moment when the chains of isolation have been broken, and the gates of brotherhood have been opened, where the voices of unity have drowned the symphony of division, and the clarion call of love has been heard in the chambers of the hearts of the people.\\n\\nThis reflection is not merely a moment of joy, but also a testament to the power of unity, the power of love, and the power of faith, where the spirit of unity is being realized in our most innermost parts, as it is the fruit of love, the harvest of unity, and the testament of faith. It is indeed the spirit of unity that gives birth to unity, the spirit of love that gives birth to love, and']\n",
      "\n"
     ]
    },
    {
     "name": "stderr",
     "output_type": "stream",
     "text": [
      "\n"
     ]
    }
   ],
   "source": [
    "vector_applier = BaseVectorApplier(top_cfg)\n",
    "for mu in [-2, -1, 0, 1, 2]:\n",
    "    vector_applier.hparams_dict[\"caa\"].multipliers = [mu]\n",
    "    vector_applier.apply_vectors()\n",
    "\n",
    "    # You can customize your own inputs\n",
    "    datasets={f'sentiment_multipliers{mu}':[{'input':\"How do you feel now?\"}]}\n",
    "\n",
    "    # Or use the datasets from config.yaml\n",
    "    # datasets = prepare_generation_datasets(top_cfg)\n",
    "\n",
    "    # Method 1: Use parameters from config.yaml\n",
    "    vector_applier.generate(datasets)\n",
    "    # Resets the model to its initial state, clearing any modifications.\n",
    "    vector_applier.model.reset_all()"
   ]
  }
 ],
 "metadata": {
  "kernelspec": {
   "display_name": "easyedit2",
   "language": "python",
   "name": "python3"
  },
  "language_info": {
   "codemirror_mode": {
    "name": "ipython",
    "version": 3
   },
   "file_extension": ".py",
   "mimetype": "text/x-python",
   "name": "python",
   "nbconvert_exporter": "python",
   "pygments_lexer": "ipython3",
   "version": "3.10.17"
  }
 },
 "nbformat": 4,
 "nbformat_minor": 2
}
